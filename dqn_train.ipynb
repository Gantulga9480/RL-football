{
 "cells": [
  {
   "cell_type": "code",
   "execution_count": 1,
   "metadata": {},
   "outputs": [],
   "source": [
    "import torch\n",
    "import torch.nn as nn\n",
    "import numpy as np\n",
    "import matplotlib.pyplot as plt\n",
    "from single_agent_env import SinglePlayerFootball, ACTION_SPACE_SIZE, STATE_SPACE_SIZE\n",
    "from RL import DeepQNetworkAgent\n",
    "from RL.utils import ReplayBuffer\n",
    "torch.manual_seed(3407)\n",
    "torch.cuda.manual_seed(3407)\n",
    "np.random.seed(3407)"
   ]
  },
  {
   "cell_type": "code",
   "execution_count": null,
   "metadata": {},
   "outputs": [],
   "source": [
    "class DQN(nn.Module):\n",
    "\n",
    "    def __init__(self, input_shape, output_shape) -> None:\n",
    "        super().__init__()\n",
    "        self.model = nn.Sequential(\n",
    "            nn.Linear(input_shape, 1024),\n",
    "            nn.LeakyReLU(),\n",
    "            nn.Linear(1024, 512),\n",
    "            nn.LeakyReLU(),\n",
    "            nn.Linear(512, 256),\n",
    "            nn.LeakyReLU(),\n",
    "            nn.Linear(256, 128),\n",
    "            nn.LeakyReLU(),\n",
    "            nn.Linear(128, 64),\n",
    "            nn.LeakyReLU(),\n",
    "            nn.Linear(64, output_shape),\n",
    "        )\n",
    "\n",
    "    def forward(self, x):\n",
    "        return self.model(x)\n"
   ]
  },
  {
   "cell_type": "code",
   "execution_count": null,
   "metadata": {},
   "outputs": [],
   "source": [
    "env = SinglePlayerFootball(title=\"DQN train, reward -0.01\")\n",
    "agent = DeepQNetworkAgent(STATE_SPACE_SIZE, ACTION_SPACE_SIZE, device=\"cuda:0\")\n",
    "agent.create_model(DQN, lr=0.0001, y=0.99, e_decay=0.999995, batchs=64)\n",
    "agent.create_buffer(ReplayBuffer(1_000_000, 100_000, STATE_SPACE_SIZE))\n",
    "scores = []\n",
    "while env.running:\n",
    "    rewards = []\n",
    "    state = env.football.reset()\n",
    "    while not env.loop_once():\n",
    "        action = agent.policy(state)\n",
    "        n_state, reward, done = env.step(action)\n",
    "        agent.learn(state, action, n_state, reward, done, update=\"soft\")\n",
    "        state = n_state\n",
    "        rewards.append(reward)\n",
    "    scores.append(sum(rewards))\n",
    "del env"
   ]
  },
  {
   "cell_type": "code",
   "execution_count": null,
   "metadata": {},
   "outputs": [],
   "source": [
    "env = SinglePlayerFootball(title=\"DQN train, reward -1\")\n",
    "for _ in range(10):\n",
    "    s = env.reset()\n",
    "    while not env.loop_once():\n",
    "        s, _, _ = env.step(agent.policy(s))\n",
    "del env"
   ]
  }
 ],
 "metadata": {
  "kernelspec": {
   "display_name": "Python 3",
   "language": "python",
   "name": "python3"
  },
  "language_info": {
   "codemirror_mode": {
    "name": "ipython",
    "version": 3
   },
   "file_extension": ".py",
   "mimetype": "text/x-python",
   "name": "python",
   "nbconvert_exporter": "python",
   "pygments_lexer": "ipython3",
   "version": "3.8.10"
  },
  "orig_nbformat": 4,
  "vscode": {
   "interpreter": {
    "hash": "e7370f93d1d0cde622a1f8e1c04877d8463912d04d973331ad4851f04de6915a"
   }
  }
 },
 "nbformat": 4,
 "nbformat_minor": 2
}
