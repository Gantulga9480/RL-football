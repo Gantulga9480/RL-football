{
 "cells": [
  {
   "cell_type": "code",
   "execution_count": 3,
   "metadata": {},
   "outputs": [],
   "source": [
    "import torch\n",
    "import torch.nn as nn\n",
    "import numpy as np\n",
    "from single_agent_env import SinglePlayerFootball, ACTION_SPACE_SIZE, STATE_SPACE_SIZE\n",
    "from RL import DeepQNetworkAgent\n",
    "from RL.utils import ReplayBuffer\n",
    "torch.manual_seed(3407)\n",
    "np.random.seed(3407)"
   ]
  },
  {
   "cell_type": "code",
   "execution_count": 4,
   "metadata": {},
   "outputs": [],
   "source": [
    "class DQN(nn.Module):\n",
    "\n",
    "    def __init__(self, input_shape, output_shape) -> None:\n",
    "        super().__init__()\n",
    "        self.model = nn.Sequential(\n",
    "            nn.Linear(input_shape, 512),\n",
    "            nn.LeakyReLU(),\n",
    "            nn.Linear(512, 256),\n",
    "            nn.LeakyReLU(),\n",
    "            nn.Linear(256, 128),\n",
    "            nn.LeakyReLU(),\n",
    "            nn.Linear(128, output_shape)\n",
    "        )\n",
    "\n",
    "    def forward(self, x):\n",
    "        return self.model(x)\n"
   ]
  },
  {
   "cell_type": "code",
   "execution_count": null,
   "metadata": {},
   "outputs": [],
   "source": [
    "MAX_REPLAY_BUFFER = 1_000_000\n",
    "BATCH_SIZE = 64\n",
    "TARGET_NET_UPDATE_FREQ = 5\n",
    "SAVE_INTERVAL = 10000\n",
    "CURRENT_TRAIN_ID = f'2023-02-28'\n",
    "\n",
    "torch.manual_seed(3407)\n",
    "np.random.seed(3407)\n",
    "env = SinglePlayerFootball(title=\"DQN train\")\n",
    "agent = DeepQNetworkAgent(STATE_SPACE_SIZE, ACTION_SPACE_SIZE, device=\"cuda:0\")\n",
    "agent.create_model(DQN, lr=0.00025, y=0.99, e_decay=0.9999999, batchs=BATCH_SIZE, target_update_freq=TARGET_NET_UPDATE_FREQ)\n",
    "agent.create_buffer(ReplayBuffer(MAX_REPLAY_BUFFER, 50_000, STATE_SPACE_SIZE))\n",
    "\n",
    "scores = []\n",
    "action = None\n",
    "\n",
    "while env.running:\n",
    "    rewards = []\n",
    "    state = env.env.reset()\n",
    "    while not env.loop_once():\n",
    "        action = agent.policy(state)\n",
    "        n_state, reward, done = env.step(action)\n",
    "        agent.learn(state, action, n_state, reward, done)\n",
    "        state = n_state\n",
    "    scores.append(sum(rewards))\n",
    "\n",
    "print(agent.step_count, agent.train_count)\n",
    "env.rendering = True\n",
    "for _ in range(10):\n",
    "    s = env.reset()\n",
    "    while not env.loop_once():\n",
    "        s, _, _ = env.step(agent.policy(s))\n",
    "del env"
   ]
  },
  {
   "cell_type": "code",
   "execution_count": null,
   "metadata": {},
   "outputs": [],
   "source": []
  }
 ],
 "metadata": {
  "kernelspec": {
   "display_name": "Python 3",
   "language": "python",
   "name": "python3"
  },
  "language_info": {
   "codemirror_mode": {
    "name": "ipython",
    "version": 3
   },
   "file_extension": ".py",
   "mimetype": "text/x-python",
   "name": "python",
   "nbconvert_exporter": "python",
   "pygments_lexer": "ipython3",
   "version": "3.8.10"
  },
  "orig_nbformat": 4,
  "vscode": {
   "interpreter": {
    "hash": "e7370f93d1d0cde622a1f8e1c04877d8463912d04d973331ad4851f04de6915a"
   }
  }
 },
 "nbformat": 4,
 "nbformat_minor": 2
}
