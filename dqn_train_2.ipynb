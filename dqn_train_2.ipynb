{
 "cells": [
  {
   "cell_type": "code",
   "execution_count": null,
   "metadata": {},
   "outputs": [],
   "source": [
    "import torch\n",
    "import torch.nn as nn\n",
    "import numpy as np\n",
    "from single_agent_env import SinglePlayerFootball, ACTION_SPACE_SIZE, STATE_SPACE_SIZE\n",
    "from RL import DeepQNetworkAgent\n",
    "from RL.utils import ReplayBuffer\n",
    "torch.manual_seed(3407)\n",
    "torch.cuda.manual_seed(3407)\n",
    "np.random.seed(3407)"
   ]
  },
  {
   "cell_type": "code",
   "execution_count": null,
   "metadata": {},
   "outputs": [],
   "source": [
    "class DQN(nn.Module):\n",
    "\n",
    "    def __init__(self, input_shape, output_shape) -> None:\n",
    "        super().__init__()\n",
    "        self.model = nn.Sequential(\n",
    "            nn.Linear(input_shape, 2048),\n",
    "            nn.LeakyReLU(),\n",
    "            nn.Linear(2048, 1024),\n",
    "            nn.LeakyReLU(),\n",
    "            nn.Linear(1024, 512),\n",
    "            nn.LeakyReLU(),\n",
    "            nn.Linear(512, 256),\n",
    "            nn.LeakyReLU(),\n",
    "            nn.Linear(256, 128),\n",
    "            nn.LeakyReLU(),\n",
    "            nn.Linear(128, output_shape),\n",
    "        )\n",
    "\n",
    "    def forward(self, x):\n",
    "        return self.model(x)"
   ]
  },
  {
   "cell_type": "code",
   "execution_count": null,
   "metadata": {},
   "outputs": [],
   "source": [
    "agent = DeepQNetworkAgent(STATE_SPACE_SIZE, ACTION_SPACE_SIZE, device=\"cuda:1\")\n",
    "agent.create_model(DQN, lr=0.0003, y=0.99, e_decay=0.9999, batch=64, target_update_method=\"soft\", tau=0.01, reward_norm_factor=300)\n",
    "agent.create_buffer(ReplayBuffer(1_000_000, 10_000, STATE_SPACE_SIZE))"
   ]
  },
  {
   "cell_type": "code",
   "execution_count": null,
   "metadata": {},
   "outputs": [],
   "source": [
    "train_id = \"DQN_fixed_ball_normalized_medium_scratch_itr1\"\n",
    "env = SinglePlayerFootball(title=train_id)\n",
    "best_score = 0\n",
    "while env.running:\n",
    "    state = env.reset(random_ball=False)\n",
    "    while not env.loop_once():\n",
    "        action = agent.policy(state)\n",
    "        n_state, reward, done = env.step(action)\n",
    "        agent.learn(state, action, n_state, reward, done)\n",
    "        state = n_state\n",
    "    if agent.episode_count % 100 == 0:\n",
    "        avg = np.mean(agent.reward_history[len(agent.reward_history) - 100:])\n",
    "        if avg > best_score:\n",
    "            best_score = avg\n",
    "            model_scripted = torch.jit.script(agent.model)\n",
    "            model_scripted.save(f\"best_models/{train_id}_{agent.episode_count}_{round(best_score, 6)}.pt\")\n",
    "del env"
   ]
  },
  {
   "cell_type": "code",
   "execution_count": null,
   "metadata": {},
   "outputs": [],
   "source": [
    "with open(f'{train_id}_rewards.txt', 'w') as f:\n",
    "    f.writelines([f\"{round(item, 6)}\\n\" for item in agent.reward_history])"
   ]
  },
  {
   "cell_type": "code",
   "execution_count": null,
   "metadata": {},
   "outputs": [],
   "source": [
    "agent.training = False\n",
    "env = SinglePlayerFootball(title=train_id)\n",
    "for _ in range(10):\n",
    "    s = env.reset(ball_random=True)\n",
    "    while not env.loop_once():\n",
    "        s, _, _ = env.step(agent.policy(s))\n",
    "del env"
   ]
  }
 ],
 "metadata": {
  "kernelspec": {
   "display_name": "Python 3",
   "language": "python",
   "name": "python3"
  },
  "language_info": {
   "codemirror_mode": {
    "name": "ipython",
    "version": 3
   },
   "file_extension": ".py",
   "mimetype": "text/x-python",
   "name": "python",
   "nbconvert_exporter": "python",
   "pygments_lexer": "ipython3",
   "version": "3.8.10"
  },
  "orig_nbformat": 4,
  "vscode": {
   "interpreter": {
    "hash": "e7370f93d1d0cde622a1f8e1c04877d8463912d04d973331ad4851f04de6915a"
   }
  }
 },
 "nbformat": 4,
 "nbformat_minor": 2
}
