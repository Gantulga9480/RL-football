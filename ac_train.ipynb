{
 "cells": [
  {
   "cell_type": "code",
   "execution_count": null,
   "metadata": {},
   "outputs": [],
   "source": [
    "import torch\n",
    "import torch.nn as nn\n",
    "from torch.distributions import Categorical\n",
    "import numpy as np\n",
    "from RL import ActorCriticAgent\n",
    "from single_agent_env import SinglePlayerFootball, ACTION_SPACE_SIZE, STATE_SPACE_SIZE\n",
    "import matplotlib.pyplot as plt\n",
    "torch.manual_seed(3407)\n",
    "torch.cuda.manual_seed(3407)\n",
    "np.random.seed(3407)"
   ]
  },
  {
   "cell_type": "code",
   "execution_count": null,
   "metadata": {},
   "outputs": [],
   "source": [
    "class AC(nn.Module):\n",
    "\n",
    "    def __init__(self, observation_size, action_size):\n",
    "        super().__init__()\n",
    "        self.actor = nn.Sequential(\n",
    "            nn.Linear(observation_size, 1024),\n",
    "            nn.LeakyReLU(),\n",
    "            nn.Linear(1024, 512),\n",
    "            nn.LeakyReLU(),\n",
    "            nn.Linear(512, 256),\n",
    "            nn.LeakyReLU(),\n",
    "            nn.Linear(256, 128),\n",
    "            nn.LeakyReLU(),\n",
    "            nn.Linear(128, 64),\n",
    "            nn.LeakyReLU(),\n",
    "            nn.Linear(64, action_size),\n",
    "            nn.Softmax(dim=0)\n",
    "        )\n",
    "        self.critic = nn.Sequential(\n",
    "            nn.Linear(observation_size, 512),\n",
    "            nn.LeakyReLU(),\n",
    "            nn.Linear(512, 1)\n",
    "        )\n",
    "\n",
    "    def forward(self, x):\n",
    "        probs = self.actor(x)\n",
    "        distribution = Categorical(probs)\n",
    "        action = distribution.sample()\n",
    "\n",
    "        value = self.critic(x)\n",
    "        return action.item(), distribution.log_prob(action), value"
   ]
  },
  {
   "cell_type": "code",
   "execution_count": null,
   "metadata": {},
   "outputs": [],
   "source": [
    "env = SinglePlayerFootball(title=\"Actor critic train\")\n",
    "agent = ActorCriticAgent(STATE_SPACE_SIZE, ACTION_SPACE_SIZE, device=\"cuda:1\")\n",
    "agent.create_model(AC, lr=0.0001, y=0.99)\n",
    "scores = []\n",
    "\n",
    "while env.running:\n",
    "    reward = []\n",
    "    s = env.reset()\n",
    "    while not env.loop_once():\n",
    "        a = agent.policy(s)\n",
    "        s, r, d = env.step(a)\n",
    "        agent.learn(r, d)\n",
    "        reward.append(r)\n",
    "    scores.append(sum(reward))\n",
    "\n",
    "env.rendering = True\n",
    "\n",
    "for _ in range(10):\n",
    "    s = env.reset()\n",
    "    while not env.loop_once():\n",
    "        s, _, _ = env.step(agent.policy(s))\n",
    "\n",
    "del env"
   ]
  },
  {
   "cell_type": "code",
   "execution_count": null,
   "metadata": {},
   "outputs": [],
   "source": [
    "plt.plot(scores)\n",
    "plt.show()"
   ]
  }
 ],
 "metadata": {
  "kernelspec": {
   "display_name": "Python 3",
   "language": "python",
   "name": "python3"
  },
  "language_info": {
   "codemirror_mode": {
    "name": "ipython",
    "version": 3
   },
   "file_extension": ".py",
   "mimetype": "text/x-python",
   "name": "python",
   "nbconvert_exporter": "python",
   "pygments_lexer": "ipython3",
   "version": "3.8.10"
  },
  "orig_nbformat": 4,
  "vscode": {
   "interpreter": {
    "hash": "e7370f93d1d0cde622a1f8e1c04877d8463912d04d973331ad4851f04de6915a"
   }
  }
 },
 "nbformat": 4,
 "nbformat_minor": 2
}
