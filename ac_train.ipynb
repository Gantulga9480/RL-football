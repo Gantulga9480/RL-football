{
 "cells": [
  {
   "cell_type": "code",
   "execution_count": null,
   "metadata": {},
   "outputs": [],
   "source": [
    "import torch\n",
    "import torch.nn as nn\n",
    "from torch.distributions import Categorical\n",
    "import numpy as np\n",
    "from RL import ActorCriticAgent\n",
    "from single_agent_env import SinglePlayerFootball, ACTION_SPACE_SIZE, STATE_SPACE_SIZE\n",
    "torch.manual_seed(3407)\n",
    "torch.cuda.manual_seed(3407)\n",
    "np.random.seed(3407)"
   ]
  },
  {
   "cell_type": "code",
   "execution_count": null,
   "metadata": {},
   "outputs": [],
   "source": [
    "class AC(nn.Module):\n",
    "\n",
    "    def __init__(self, observation_size, action_size):\n",
    "        super().__init__()\n",
    "        self.actor = nn.Sequential(\n",
    "            nn.Linear(observation_size, 1024),\n",
    "            nn.LeakyReLU(),\n",
    "            nn.Linear(1024, 512),\n",
    "            nn.LeakyReLU(),\n",
    "            nn.Linear(512, 256),\n",
    "            nn.LeakyReLU(),\n",
    "            nn.Linear(256, 128),\n",
    "            nn.LeakyReLU(),\n",
    "            nn.Linear(128, 64),\n",
    "            nn.LeakyReLU(),\n",
    "            nn.Linear(64, action_size),\n",
    "            nn.Softmax(dim=0)\n",
    "        )\n",
    "        self.critic = nn.Sequential(\n",
    "            nn.Linear(observation_size, 1024),\n",
    "            nn.LeakyReLU(),\n",
    "            nn.Linear(1024, 512),\n",
    "            nn.LeakyReLU(),\n",
    "            nn.Linear(512, 256),\n",
    "            nn.LeakyReLU(),\n",
    "            nn.Linear(256, 128),\n",
    "            nn.LeakyReLU(),\n",
    "            nn.Linear(128, 64),\n",
    "            nn.LeakyReLU(),\n",
    "            nn.Linear(64, 1)\n",
    "        )\n",
    "\n",
    "    def forward(self, x):\n",
    "        probs = self.actor(x)\n",
    "        distribution = Categorical(probs)\n",
    "        action = distribution.sample()\n",
    "\n",
    "        value = self.critic(x)\n",
    "        return action.item(), distribution.log_prob(action), value"
   ]
  },
  {
   "cell_type": "code",
   "execution_count": null,
   "metadata": {},
   "outputs": [],
   "source": [
    "agent = ActorCriticAgent(STATE_SPACE_SIZE, ACTION_SPACE_SIZE, device=\"cuda:0\")\n",
    "agent.create_model(AC, lr=0.0001, y=0.99)"
   ]
  },
  {
   "cell_type": "code",
   "execution_count": null,
   "metadata": {},
   "outputs": [],
   "source": [
    "train_id = \"ac_fixed_ball_every_-1_goal_300\"\n",
    "env = SinglePlayerFootball(title=train_id)\n",
    "best_score = 0\n",
    "while env.running:\n",
    "    state = env.reset()\n",
    "    while not env.loop_once():\n",
    "        action = agent.policy(state)\n",
    "        n_state, reward, done = env.step(action)\n",
    "        agent.learn(state, action, n_state, reward, done)\n",
    "        state = n_state\n",
    "        if agent.reward_history[-1] > best_score:\n",
    "            best_score = agent.reward_history[-1]\n",
    "            model_scripted = torch.jit.script(agent.model)\n",
    "            model_scripted.save(f\"best_models/{train_id}_{agent.episode_count}_{round(best_score, 6)}.pt\")\n",
    "del env"
   ]
  },
  {
   "cell_type": "code",
   "execution_count": null,
   "metadata": {},
   "outputs": [],
   "source": [
    "with open('rewards.txt', 'w') as f:\n",
    "    f.writelines([f\"{round(item, 6)}\\n\" for item in agent.reward_history])"
   ]
  },
  {
   "cell_type": "code",
   "execution_count": null,
   "metadata": {},
   "outputs": [],
   "source": [
    "agent.train = False\n",
    "env = SinglePlayerFootball(title=train_id)\n",
    "for _ in range(10):\n",
    "    s = env.reset()\n",
    "    while not env.loop_once():\n",
    "        s, _, _ = env.step(agent.policy(s))\n",
    "del env"
   ]
  }
 ],
 "metadata": {
  "kernelspec": {
   "display_name": "Python 3",
   "language": "python",
   "name": "python3"
  },
  "language_info": {
   "codemirror_mode": {
    "name": "ipython",
    "version": 3
   },
   "file_extension": ".py",
   "mimetype": "text/x-python",
   "name": "python",
   "nbconvert_exporter": "python",
   "pygments_lexer": "ipython3",
   "version": "3.8.10"
  },
  "orig_nbformat": 4,
  "vscode": {
   "interpreter": {
    "hash": "e7370f93d1d0cde622a1f8e1c04877d8463912d04d973331ad4851f04de6915a"
   }
  }
 },
 "nbformat": 4,
 "nbformat_minor": 2
}
