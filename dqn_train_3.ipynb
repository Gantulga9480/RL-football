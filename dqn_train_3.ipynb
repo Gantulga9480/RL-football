{
 "cells": [
  {
   "cell_type": "code",
   "execution_count": null,
   "metadata": {},
   "outputs": [],
   "source": [
    "import torch\n",
    "import torch.nn as nn\n",
    "import numpy as np\n",
    "from single_agent_envs import SinglePlayerFootball, ACTION_SPACE_SIZE, STATE_SPACE_SIZE\n",
    "from RL import DeepQNetworkAgent\n",
    "from RL.utils import ReplayBuffer\n",
    "torch.manual_seed(3407)\n",
    "torch.cuda.manual_seed(3407)\n",
    "np.random.seed(3407)"
   ]
  },
  {
   "cell_type": "code",
   "execution_count": null,
   "metadata": {},
   "outputs": [],
   "source": [
    "class DQN(nn.Module):\n",
    "\n",
    "    def __init__(self, input_shape, output_shape) -> None:\n",
    "        super().__init__()\n",
    "        self.model = nn.Sequential(\n",
    "            nn.Linear(input_shape, 1024),\n",
    "            nn.LeakyReLU(),\n",
    "            nn.Linear(1024, 512),\n",
    "            nn.LeakyReLU(),\n",
    "            nn.Linear(512, 256),\n",
    "            nn.LeakyReLU(),\n",
    "            nn.Linear(256, 128),\n",
    "            nn.LeakyReLU(),\n",
    "            nn.Linear(128, 64),\n",
    "            nn.LeakyReLU(),\n",
    "            nn.Linear(64, output_shape),\n",
    "        )\n",
    "\n",
    "    def forward(self, x):\n",
    "        return self.model(x)"
   ]
  },
  {
   "cell_type": "code",
   "execution_count": null,
   "metadata": {},
   "outputs": [],
   "source": [
    "agent = DeepQNetworkAgent(STATE_SPACE_SIZE, ACTION_SPACE_SIZE, device=\"cuda:1\")\n",
    "agent.create_model(DQN, lr=0.0003, y=0.99, e_decay=0.9999, batch=64, target_update_method=\"soft\", tau=0.01, reward_norm_factor=300)\n",
    "agent.create_buffer(ReplayBuffer(1_000_000, 10_000, STATE_SPACE_SIZE))"
   ]
  },
  {
   "cell_type": "code",
   "execution_count": null,
   "metadata": {},
   "outputs": [],
   "source": [
    "agent.model = torch.jit.load(\"models/random_ball/4/random_ball_normalized_transfer_26914_299.pt\")\n",
    "agent.model.to(agent.device)\n",
    "agent.target_model.load_state_dict(agent.model.state_dict())"
   ]
  },
  {
   "cell_type": "code",
   "execution_count": null,
   "metadata": {},
   "outputs": [],
   "source": [
    "train_id = \"DQN_random_ball_normalized_transfer_itr5\"\n",
    "env = SinglePlayerFootball(title=train_id)\n",
    "best_score = 138\n",
    "while env.running:\n",
    "    state = env.reset(random_ball=True)\n",
    "    while not env.loop_once():\n",
    "        action = agent.policy(state)\n",
    "        n_state, reward, done = env.step(action)\n",
    "        agent.learn(state, action, n_state, reward, done)\n",
    "        state = n_state\n",
    "    if agent.episode_counter % 100 == 0:\n",
    "        avg = np.mean(agent.reward_history[len(agent.reward_history) - 100:])\n",
    "        if avg > best_score:\n",
    "            best_score = avg\n",
    "            model_scripted = torch.jit.script(agent.model)\n",
    "            model_scripted.save(f\"best_models/{train_id}_{agent.episode_counter}_{round(best_score, 6)}.pt\")\n",
    "del env"
   ]
  },
  {
   "cell_type": "code",
   "execution_count": null,
   "metadata": {},
   "outputs": [],
   "source": [
    "with open(f'{train_id}_rewards.txt', 'w') as f:\n",
    "    f.writelines([f\"{round(item, 6)}\\n\" for item in agent.reward_history])"
   ]
  },
  {
   "cell_type": "code",
   "execution_count": null,
   "metadata": {},
   "outputs": [],
   "source": [
    "r_sum = 0\n",
    "y = 0.9"
   ]
  }
 ],
 "metadata": {
  "kernelspec": {
   "display_name": "Python 3",
   "language": "python",
   "name": "python3"
  },
  "language_info": {
   "codemirror_mode": {
    "name": "ipython",
    "version": 3
   },
   "file_extension": ".py",
   "mimetype": "text/x-python",
   "name": "python",
   "nbconvert_exporter": "python",
   "pygments_lexer": "ipython3",
   "version": "3.9.16"
  },
  "orig_nbformat": 4
 },
 "nbformat": 4,
 "nbformat_minor": 2
}
